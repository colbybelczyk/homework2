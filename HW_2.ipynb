{
  "nbformat": 4,
  "nbformat_minor": 0,
  "metadata": {
    "colab": {
      "provenance": []
    },
    "kernelspec": {
      "name": "python3",
      "display_name": "Python 3"
    },
    "language_info": {
      "name": "python"
    }
  },
  "cells": [
    {
      "cell_type": "markdown",
      "source": [
        "python as calculator"
      ],
      "metadata": {
        "id": "b3IdxPgn9ZPD"
      }
    },
    {
      "cell_type": "code",
      "source": [
        "3 + 4"
      ],
      "metadata": {
        "colab": {
          "base_uri": "https://localhost:8080/"
        },
        "id": "YaO4h1z39dKO",
        "outputId": "2652e80f-b94c-4223-95c8-7b9497a93648"
      },
      "execution_count": null,
      "outputs": [
        {
          "output_type": "execute_result",
          "data": {
            "text/plain": [
              "7"
            ]
          },
          "metadata": {},
          "execution_count": 11
        }
      ]
    },
    {
      "cell_type": "code",
      "source": [
        "2*8"
      ],
      "metadata": {
        "colab": {
          "base_uri": "https://localhost:8080/"
        },
        "id": "Cmtq-Dfh9x6p",
        "outputId": "6c78f41d-25db-4d38-bd9d-243f536d17bc"
      },
      "execution_count": null,
      "outputs": [
        {
          "output_type": "execute_result",
          "data": {
            "text/plain": [
              "16"
            ]
          },
          "metadata": {},
          "execution_count": 12
        }
      ]
    },
    {
      "cell_type": "code",
      "source": [
        "2**4"
      ],
      "metadata": {
        "colab": {
          "base_uri": "https://localhost:8080/"
        },
        "id": "R4CSCbZc90uY",
        "outputId": "c36a6120-69bc-4877-e316-897ceb7deef5"
      },
      "execution_count": null,
      "outputs": [
        {
          "output_type": "execute_result",
          "data": {
            "text/plain": [
              "16"
            ]
          },
          "metadata": {},
          "execution_count": 13
        }
      ]
    },
    {
      "cell_type": "code",
      "source": [
        "10/4"
      ],
      "metadata": {
        "colab": {
          "base_uri": "https://localhost:8080/"
        },
        "id": "2Qp-9OMp924b",
        "outputId": "e3bdff07-6c52-425b-f8bf-b173021e1e73"
      },
      "execution_count": null,
      "outputs": [
        {
          "output_type": "execute_result",
          "data": {
            "text/plain": [
              "2.5"
            ]
          },
          "metadata": {},
          "execution_count": 14
        }
      ]
    },
    {
      "cell_type": "code",
      "source": [
        "10%4"
      ],
      "metadata": {
        "colab": {
          "base_uri": "https://localhost:8080/"
        },
        "id": "MvYqcgpW94i7",
        "outputId": "a7794bb2-6c9a-4f89-fa00-09114a61859c"
      },
      "execution_count": null,
      "outputs": [
        {
          "output_type": "execute_result",
          "data": {
            "text/plain": [
              "2"
            ]
          },
          "metadata": {},
          "execution_count": 15
        }
      ]
    },
    {
      "cell_type": "code",
      "source": [
        "340/(4+12)*(5-1)"
      ],
      "metadata": {
        "colab": {
          "base_uri": "https://localhost:8080/"
        },
        "id": "3ObvY2r7-HlN",
        "outputId": "cefbf626-76d4-4dd7-9434-f9af188d8406"
      },
      "execution_count": null,
      "outputs": [
        {
          "output_type": "execute_result",
          "data": {
            "text/plain": [
              "85.0"
            ]
          },
          "metadata": {},
          "execution_count": 16
        }
      ]
    },
    {
      "cell_type": "code",
      "source": [
        "print(5+4)\n",
        "54-2"
      ],
      "metadata": {
        "colab": {
          "base_uri": "https://localhost:8080/"
        },
        "id": "0-9vpi8w-TOr",
        "outputId": "e643ed21-04e4-4b20-a51d-9f334db404b5"
      },
      "execution_count": null,
      "outputs": [
        {
          "output_type": "stream",
          "name": "stdout",
          "text": [
            "9\n"
          ]
        },
        {
          "output_type": "execute_result",
          "data": {
            "text/plain": [
              "52"
            ]
          },
          "metadata": {},
          "execution_count": 17
        }
      ]
    },
    {
      "cell_type": "markdown",
      "source": [
        "comments"
      ],
      "metadata": {
        "id": "QUv2rPJn-fJE"
      }
    },
    {
      "cell_type": "code",
      "source": [
        "#comments use # at the begiining of the line"
      ],
      "metadata": {
        "id": "DY2lW4V9-jZP"
      },
      "execution_count": null,
      "outputs": []
    },
    {
      "cell_type": "markdown",
      "source": [
        "print on 2 lines"
      ],
      "metadata": {
        "id": "a0nC9Efr-mfa"
      }
    },
    {
      "cell_type": "code",
      "source": [
        "print('hi\\nhi again')"
      ],
      "metadata": {
        "colab": {
          "base_uri": "https://localhost:8080/"
        },
        "id": "3gGnJx7E-oCc",
        "outputId": "a4016bbf-07f6-44b2-9804-62cd66cd8759"
      },
      "execution_count": null,
      "outputs": [
        {
          "output_type": "stream",
          "name": "stdout",
          "text": [
            "hi\n",
            "hi again\n"
          ]
        }
      ]
    },
    {
      "cell_type": "markdown",
      "source": [
        "create funtions"
      ],
      "metadata": {
        "id": "QVy9-5M3_MAk"
      }
    },
    {
      "cell_type": "code",
      "source": [
        "def myfunct(name):\n",
        "    print('hello, ', name)\n",
        "\n",
        "#call function\n",
        "myfunct('john')"
      ],
      "metadata": {
        "colab": {
          "base_uri": "https://localhost:8080/"
        },
        "id": "PCkeCde9_Noo",
        "outputId": "9f7faaa4-e775-4f79-a4ed-5b1c08d3978f"
      },
      "execution_count": null,
      "outputs": [
        {
          "output_type": "stream",
          "name": "stdout",
          "text": [
            "hello,  john\n"
          ]
        }
      ]
    }
  ]
}